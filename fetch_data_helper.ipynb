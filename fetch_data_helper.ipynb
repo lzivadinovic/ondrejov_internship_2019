{
 "cells": [
  {
   "cell_type": "code",
   "execution_count": 47,
   "metadata": {},
   "outputs": [],
   "source": [
    "import requests\n",
    "fsave='./HARP_TO_NOAA.txt'\n",
    "def fetch_newest_harpnum_to_noaa(filename=fsave):\n",
    "    '''\n",
    "    This function downloads newest harp to noaa mapping from jsoc\n",
    "    just call the function.\n",
    "    '''\n",
    "    url = 'http://jsoc.stanford.edu/doc/data/hmi/harpnum_to_noaa/all_harps_with_noaa_ars.txt'\n",
    "    r = requests.get(url)\n",
    "    with open(filename, 'wb') as f:\n",
    "        f.write(r.content)\n",
    "\n",
    "##fetch_newest_harpnum_to_noaa()"
   ]
  },
  {
   "cell_type": "code",
   "execution_count": 48,
   "metadata": {},
   "outputs": [],
   "source": [
    "def harp_from_noaa(NOAANUM,noaalist):\n",
    "    '''\n",
    "    This returns HARP number for provided NOAA region from content file\n",
    "    '''\n",
    "    # Read content of HARPS TO NOAA in content\n",
    "    with open(noaalist) as f:\n",
    "        content = [line.rstrip() for line in f]\n",
    "    ins = [index for index, string in enumerate(content) if NOAANUM in string]\n",
    "    harpnum = [ content[x].split(' ')[0] for x in ins ]\n",
    "    if len(harpnum) != 1:\n",
    "        raise Exception(\"Be careful! Your region is over multiple HARPs or it was not found! HARPS: {}\".format(harpnum))\n",
    "    return harpnum[0]"
   ]
  },
  {
   "cell_type": "code",
   "execution_count": 49,
   "metadata": {},
   "outputs": [
    {
     "name": "stdout",
     "output_type": "stream",
     "text": [
      "3604\n"
     ]
    }
   ],
   "source": [
    "HARPNUM=harp_from_noaa(\"11950\",fsave)\n",
    "MY_MAIL='lazar.zivadinovic.994@gmail.com'\n",
    "print(HARPNUM)"
   ]
  },
  {
   "cell_type": "code",
   "execution_count": 42,
   "metadata": {},
   "outputs": [
    {
     "name": "stdout",
     "output_type": "stream",
     "text": [
      "               type       units protocol     dims  \\\n",
      "name                                                \n",
      "magnetogram     int       Gauss     fits  VARxVAR   \n",
      "bitmap         char  Enumerated     fits  VARxVAR   \n",
      "Dopplergram     int         m/s     fits  VARxVAR   \n",
      "continuum       int        DN/s     fits  VARxVAR   \n",
      "Bp              int       Gauss     fits  VARxVAR   \n",
      "Bt              int       Gauss     fits  VARxVAR   \n",
      "Br              int       Gauss     fits  VARxVAR   \n",
      "Bp_err          int       Gauss     fits  VARxVAR   \n",
      "Bt_err          int       Gauss     fits  VARxVAR   \n",
      "Br_err          int       Gauss     fits  VARxVAR   \n",
      "conf_disambig  char        none     fits  VARxVAR   \n",
      "\n",
      "                                                      note  \n",
      "name                                                        \n",
      "magnetogram    Line-of-sight magnetogram in CEA projection  \n",
      "bitmap               Mask for the patch in CEA coordinates  \n",
      "Dopplergram                  Dopplergram in CEA projection  \n",
      "continuum                  Intensitygram in CEA projection  \n",
      "Bp                                B_phi, positive westward  \n",
      "Bt                             B_theta, positive southward  \n",
      "Br                                        B_r, positive up  \n",
      "Bp_err                         Standard deviation of B_phi  \n",
      "Bt_err                       Standard deviation of B_theta  \n",
      "Br_err                           Standard deviation of B_r  \n",
      "conf_disambig          confidence of disambiguation result  \n",
      "['HARPNUM', 'T_REC']\n"
     ]
    }
   ],
   "source": [
    "#Lets find primary keys and data sets for our set\n",
    "import drms\n",
    "c = drms.Client()\n",
    "si = c.info('hmi.sharp_cea_720s')\n",
    "print(si.segments)\n",
    "# ['magnetogram' 'bitmap' 'Dopplergram' 'continuum' 'Bp' 'Bt' 'Br' 'Bp_err'\n",
    "# 'Bt_err' 'Br_err' 'conf_disambig']\n",
    "\n",
    "print(c.pkeys('hmi.sharp_cea_720s'))\n",
    "# ['HARPNUM', 'T_REC']"
   ]
  },
  {
   "cell_type": "code",
   "execution_count": 43,
   "metadata": {},
   "outputs": [],
   "source": [
    "import os\n",
    "# Lets make jsoc query \n",
    "from sunpy.net import jsoc\n",
    "from sunpy.net import attrs as a\n",
    "from sunpy.time import parse_time\n",
    "#initialize client\n",
    "client = jsoc.JSOCClient()\n",
    "\n",
    "data_root='./data'\n",
    "download_path=os.path.join(data_root,str(HARPNUM))\n",
    "\n",
    "###### THIS IS THE REAL QUERY, LETS MAKE SOMETHING SMALLER FOR TESTING ########\n",
    "# Create query\n",
    "resjsoc = client.search(a.jsoc.PrimeKey('HARPNUM', HARPNUM),\n",
    "                        a.jsoc.Series('hmi.sharp_cea_720s'),\n",
    "                        a.jsoc.Segment('Bp') & a.jsoc.Segment('Bt') & \n",
    "                        a.jsoc.Segment('Br') & a.jsoc.Segment('continuum') &\n",
    "                        a.jsoc.Segment('bitmap'),\n",
    "                        a.jsoc.Notify(MY_MAIL))\n",
    "\n",
    "#Dont try to fix max_conns, jsoc will block you (max conns from ip)\n",
    "#https://github.com/sunpy/sunpy/pull/3822\n",
    "#result = client.fetch(resjsoc, path=download_path, progress=True, wait=True)\n",
    "#Use result as you like! Its list of filenames!"
   ]
  },
  {
   "cell_type": "code",
   "execution_count": null,
   "metadata": {},
   "outputs": [],
   "source": []
  },
  {
   "cell_type": "code",
   "execution_count": null,
   "metadata": {},
   "outputs": [],
   "source": []
  },
  {
   "cell_type": "code",
   "execution_count": null,
   "metadata": {},
   "outputs": [],
   "source": []
  },
  {
   "cell_type": "code",
   "execution_count": null,
   "metadata": {},
   "outputs": [],
   "source": []
  },
  {
   "cell_type": "code",
   "execution_count": null,
   "metadata": {},
   "outputs": [],
   "source": []
  },
  {
   "cell_type": "code",
   "execution_count": null,
   "metadata": {},
   "outputs": [],
   "source": []
  },
  {
   "cell_type": "code",
   "execution_count": null,
   "metadata": {},
   "outputs": [],
   "source": []
  }
 ],
 "metadata": {
  "kernelspec": {
   "display_name": "ondrejov",
   "language": "python",
   "name": "ondrejov"
  },
  "language_info": {
   "codemirror_mode": {
    "name": "ipython",
    "version": 3
   },
   "file_extension": ".py",
   "mimetype": "text/x-python",
   "name": "python",
   "nbconvert_exporter": "python",
   "pygments_lexer": "ipython3",
   "version": "3.7.5"
  },
  "latex_envs": {
   "LaTeX_envs_menu_present": true,
   "autoclose": false,
   "autocomplete": true,
   "bibliofile": "biblio.bib",
   "cite_by": "apalike",
   "current_citInitial": 1,
   "eqLabelWithNumbers": true,
   "eqNumInitial": 1,
   "hotkeys": {
    "equation": "Ctrl-E",
    "itemize": "Ctrl-I"
   },
   "labels_anchors": false,
   "latex_user_defs": false,
   "report_style_numbering": false,
   "user_envs_cfg": false
  }
 },
 "nbformat": 4,
 "nbformat_minor": 4
}
